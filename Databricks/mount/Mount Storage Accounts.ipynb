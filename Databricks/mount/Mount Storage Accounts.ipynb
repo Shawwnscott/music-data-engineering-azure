{
 "cells": [
  {
   "cell_type": "markdown",
   "metadata": {
    "application/vnd.databricks.v1+cell": {
     "cellMetadata": {},
     "inputWidgets": {},
     "nuid": "6af5baea-e28f-4f15-8a96-c7bacf6f9b08",
     "showTitle": false,
     "title": ""
    }
   },
   "source": [
    "## Mount the following data lake storage gen2 containers\n",
    "1. raw (ADLS)\n",
    "2. processed (ALDS)\n",
    "\n",
    "## Mount the following data lake storage gen2 containers\n",
    "1. incoming-albums (BLOB)\n",
    "2. incoming-tracks (BLOB)\n",
    "33. ingestion-exception (BLOB)"
   ]
  },
  {
   "cell_type": "markdown",
   "metadata": {
    "application/vnd.databricks.v1+cell": {
     "cellMetadata": {},
     "inputWidgets": {},
     "nuid": "fb374ec5-c340-457c-bf50-b197e3a52f52",
     "showTitle": false,
     "title": ""
    }
   },
   "source": [
    "### Set-up the configs\n",
    "#### Please update the following \n",
    "- application-id\n",
    "- service-credential\n",
    "- directory-id"
   ]
  },
  {
   "cell_type": "code",
   "execution_count": null,
   "metadata": {
    "application/vnd.databricks.v1+cell": {
     "cellMetadata": {
      "byteLimit": 2048000,
      "rowLimit": 10000
     },
     "inputWidgets": {},
     "nuid": "3dbeb1a8-7101-4653-be99-26a01afd8bbe",
     "showTitle": false,
     "title": ""
    }
   },
   "outputs": [],
   "source": [
    "configs = {\"fs.azure.account.auth.type\": \"OAuth\",\n",
    "          \"fs.azure.account.oauth.provider.type\": \"org.apache.hadoop.fs.azurebfs.oauth2.ClientCredsTokenProvider\",\n",
    "          \"fs.azure.account.oauth2.client.id\": \"<application-id>\",\n",
    "          \"fs.azure.account.oauth2.client.secret\": \"<service-credential>\",\n",
    "          \"fs.azure.account.oauth2.client.endpoint\": \"https://login.microsoftonline.com/<directory-id>/oauth2/token\"}\n"
   ]
  },
  {
   "cell_type": "markdown",
   "metadata": {},
   "source": [
    "- Check Current Mounts"
   ]
  },
  {
   "cell_type": "code",
   "execution_count": null,
   "metadata": {
    "application/vnd.databricks.v1+cell": {
     "cellMetadata": {
      "byteLimit": 2048000,
      "rowLimit": 10000
     },
     "inputWidgets": {},
     "nuid": "4807fc52-d710-41e5-b9df-9a1b7b282fbd",
     "showTitle": false,
     "title": ""
    }
   },
   "outputs": [],
   "source": [
    "dbutils.fs.mounts()"
   ]
  },
  {
   "cell_type": "markdown",
   "metadata": {
    "application/vnd.databricks.v1+cell": {
     "cellMetadata": {},
     "inputWidgets": {},
     "nuid": "9dd898e3-45c7-497d-8392-715d763303e0",
     "showTitle": false,
     "title": ""
    }
   },
   "source": [
    "### Mount the RAW container"
   ]
  },
  {
   "cell_type": "code",
   "execution_count": null,
   "metadata": {
    "application/vnd.databricks.v1+cell": {
     "cellMetadata": {
      "byteLimit": 2048000,
      "rowLimit": 10000
     },
     "inputWidgets": {},
     "nuid": "4812c32b-10cb-4ad7-ad67-8d42f7e97d31",
     "showTitle": false,
     "title": ""
    }
   },
   "outputs": [],
   "source": [
    "dbutils.fs.mount(\n",
    "  source = \"abfss://raw@<storage-account-name>.dfs.core.windows.net/\",\n",
    "  mount_point = \"/mnt/<storage-account-name>/raw\",\n",
    "  extra_configs = configs)"
   ]
  },
  {
   "cell_type": "markdown",
   "metadata": {
    "application/vnd.databricks.v1+cell": {
     "cellMetadata": {},
     "inputWidgets": {},
     "nuid": "639953c9-d291-4077-8d12-467eaa5afcc7",
     "showTitle": false,
     "title": ""
    }
   },
   "source": [
    "### Mount the PROCESSED container\n"
   ]
  },
  {
   "cell_type": "code",
   "execution_count": null,
   "metadata": {
    "application/vnd.databricks.v1+cell": {
     "cellMetadata": {
      "byteLimit": 2048000,
      "rowLimit": 10000
     },
     "inputWidgets": {},
     "nuid": "985b44da-0050-420b-adaf-61598c929596",
     "showTitle": false,
     "title": ""
    }
   },
   "outputs": [],
   "source": [
    "dbutils.fs.mount(\n",
    "  source = \"abfss://processed@<storage-account-name>.dfs.core.windows.net/\",\n",
    "  mount_point = \"/mnt/<storage-account-name>/processed\",\n",
    "  extra_configs = configs)"
   ]
  },
  {
   "cell_type": "markdown",
   "metadata": {
    "application/vnd.databricks.v1+cell": {
     "cellMetadata": {},
     "inputWidgets": {},
     "nuid": "de6bcc7d-41d4-4590-bfcc-5f552e98348f",
     "showTitle": false,
     "title": ""
    }
   },
   "source": [
    "\n",
    "### Mount the INCOMING ALBUMS Container\n"
   ]
  },
  {
   "cell_type": "code",
   "execution_count": null,
   "metadata": {
    "application/vnd.databricks.v1+cell": {
     "cellMetadata": {
      "byteLimit": 2048000,
      "rowLimit": 10000
     },
     "inputWidgets": {},
     "nuid": "123e3499-f6f7-44f7-b3e7-c31be32a9d3a",
     "showTitle": false,
     "title": ""
    }
   },
   "outputs": [],
   "source": [
    "# Replace placeholders with your actual values\n",
    "blob_storage_account_name = \"<storage-account-name>\"\n",
    "blob_container_name = \"incoming-albums\"\n",
    "storage_account_key = \"<access-key>\"  # Or use SAS token instead\n",
    "\n",
    "# Mount Blob Storage container\n",
    "dbutils.fs.mount(\n",
    "    source=f\"wasbs://{blob_container_name}@{blob_storage_account_name}.blob.core.windows.net/\",\n",
    "    mount_point=\"/mnt/incoming-albums\",\n",
    "    extra_configs= {'fs.azure.sas.' + blob_container_name + '.' + blob_storage_account_name + '.blob.core.windows.net': storage_account_key}\n",
    ")\n"
   ]
  },
  {
   "cell_type": "markdown",
   "metadata": {
    "application/vnd.databricks.v1+cell": {
     "cellMetadata": {},
     "inputWidgets": {},
     "nuid": "0df2d5e9-cf83-4c07-8de6-618dd03d6230",
     "showTitle": false,
     "title": ""
    }
   },
   "source": [
    "%md\n",
    "### Mount the INCOMING TRACKS Container"
   ]
  },
  {
   "cell_type": "code",
   "execution_count": null,
   "metadata": {
    "application/vnd.databricks.v1+cell": {
     "cellMetadata": {
      "byteLimit": 2048000,
      "rowLimit": 10000
     },
     "inputWidgets": {},
     "nuid": "1abb61b4-1fe2-4e3e-aa21-25ec75907a01",
     "showTitle": false,
     "title": ""
    }
   },
   "outputs": [],
   "source": [
    "# Replace placeholders with your actual values\n",
    "blob_storage_account_name = \"<storage-account-name>\"\n",
    "blob_container_name = \"incoming-tracks\"\n",
    "storage_account_key = \"<access-key>\n",
    "# Mount Blob Storage container\n",
    "dbutils.fs.mount(\n",
    "    source=f\"wasbs://{blob_container_name}@{blob_storage_account_name}.blob.core.windows.net/\",\n",
    "    mount_point=\"/mnt/incoming-tracks\",\n",
    "    extra_configs= {'fs.azure.sas.' + blob_container_name + '.' + blob_storage_account_name + '.blob.core.windows.net': storage_account_key}\n",
    ")\n"
   ]
  },
  {
   "cell_type": "markdown",
   "metadata": {
    "application/vnd.databricks.v1+cell": {
     "cellMetadata": {},
     "inputWidgets": {},
     "nuid": "33ea1b39-401e-4c25-a381-e3bc86b81c4c",
     "showTitle": false,
     "title": ""
    }
   },
   "source": [
    "%md\n",
    "### Mount the INGESTION EXCEPTION Container"
   ]
  },
  {
   "cell_type": "code",
   "execution_count": null,
   "metadata": {
    "application/vnd.databricks.v1+cell": {
     "cellMetadata": {
      "byteLimit": 2048000,
      "rowLimit": 10000
     },
     "inputWidgets": {},
     "nuid": "96347b64-4c16-4086-9d11-65a69a7210f7",
     "showTitle": false,
     "title": ""
    }
   },
   "outputs": [],
   "source": [
    "# Replace placeholders with your actual values\n",
    "blob_storage_account_name = \"<storage-account-name>\"\n",
    "blob_container_name = \"ingestion-exception\"\n",
    "storage_account_key = \"<access-key>  # Or use SAS token instead\n",
    "\n",
    "# Mount Blob Storage container\n",
    "dbutils.fs.mount(\n",
    "    source=f\"wasbs://{blob_container_name}@{blob_storage_account_name}.blob.core.windows.net/\",\n",
    "    mount_point=\"/mnt/ingestion-exception\",\n",
    "    extra_configs = {'fs.azure.sas.' + blob_container_name + '.' + blob_storage_account_name + '.blob.core.windows.net': storage_account_key}\n",
    ")\n"
   ]
  },
  {
   "cell_type": "markdown",
   "metadata": {},
   "source": [
    "- List Files in Specific Mount Point"
   ]
  },
  {
   "cell_type": "code",
   "execution_count": null,
   "metadata": {
    "application/vnd.databricks.v1+cell": {
     "cellMetadata": {
      "byteLimit": 2048000,
      "rowLimit": 10000
     },
     "inputWidgets": {},
     "nuid": "b02b56c6-0e6f-4cd2-878f-3d18e9e28874",
     "showTitle": false,
     "title": ""
    }
   },
   "outputs": [],
   "source": [
    "dbutils.fs.ls(\"/mnt/ingestion-exception\")"
   ]
  },
  {
   "cell_type": "markdown",
   "metadata": {},
   "source": [
    "- Unmount Storage"
   ]
  },
  {
   "cell_type": "code",
   "execution_count": null,
   "metadata": {
    "application/vnd.databricks.v1+cell": {
     "cellMetadata": {
      "byteLimit": 2048000,
      "rowLimit": 10000
     },
     "inputWidgets": {},
     "nuid": "a12d61f0-757a-4dbc-887d-af81dd271c18",
     "showTitle": false,
     "title": ""
    }
   },
   "outputs": [],
   "source": [
    "#dbutils.fs.unmount(\"/mnt/ingestion-exception\")"
   ]
  },
  {
   "cell_type": "code",
   "execution_count": null,
   "metadata": {
    "application/vnd.databricks.v1+cell": {
     "cellMetadata": {},
     "inputWidgets": {},
     "nuid": "8a631e3c-11e9-4ba6-b41b-ffb8a9784be2",
     "showTitle": false,
     "title": ""
    }
   },
   "outputs": [],
   "source": [
    "#"
   ]
  }
 ],
 "metadata": {
  "application/vnd.databricks.v1+notebook": {
   "dashboards": [],
   "language": "python",
   "notebookMetadata": {
    "pythonIndentUnit": 4
   },
   "notebookName": "Mount Storage Accounts",
   "widgets": {}
  },
  "kernelspec": {
   "display_name": "Python 3 (ipykernel)",
   "language": "python",
   "name": "python3"
  },
  "language_info": {
   "codemirror_mode": {
    "name": "ipython",
    "version": 3
   },
   "file_extension": ".py",
   "mimetype": "text/x-python",
   "name": "python",
   "nbconvert_exporter": "python",
   "pygments_lexer": "ipython3",
   "version": "3.9.7"
  }
 },
 "nbformat": 4,
 "nbformat_minor": 1
}
