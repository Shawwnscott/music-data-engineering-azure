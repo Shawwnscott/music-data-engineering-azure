{
 "cells": [
  {
   "cell_type": "code",
   "execution_count": 0,
   "metadata": {
    "application/vnd.databricks.v1+cell": {
     "cellMetadata": {
      "byteLimit": 2048000,
      "rowLimit": 10000
     },
     "inputWidgets": {},
     "nuid": "8fc5386f-97d5-4f64-bb78-d386dd3a49d6",
     "showTitle": false,
     "title": ""
    }
   },
   "outputs": [],
   "source": [
    "import json\n",
    "from pyspark.sql import Row\n",
    "from pyspark.sql.types import StructType, StructField, StringType, IntegerType\n",
    "from pyspark.sql.functions import col\n",
    "import time\n"
   ]
  },
  {
   "cell_type": "code",
   "execution_count": 0,
   "metadata": {
    "application/vnd.databricks.v1+cell": {
     "cellMetadata": {
      "byteLimit": 2048000,
      "rowLimit": 10000
     },
     "inputWidgets": {},
     "nuid": "cb18ef89-f984-4bce-912e-f046180009d8",
     "showTitle": false,
     "title": ""
    }
   },
   "outputs": [
    {
     "output_type": "stream",
     "name": "stdout",
     "output_type": "stream",
     "text": [
      "1:YG\n2:Rygin King\n3:Pablo YG\n4:Nadia Rose\n5:DJ Khaled\n6:Mustard\n7:TeeZandos\n8:Big Sean\n9:Patrice Roberts\n10:Quada\n11:Kid Cudi\n12:Nicki Minaj\n13:STARSET\n14:Malie Donn\n15:Chip\n16:Destra\n17:Farmer Nappy\n18:Wiz Khalifa\n19:Gucci Mane\n20:Chief Keef\n-----------------------------------------------------------------------\n21:2 Chainz\n22:Nessa Preppy\n23:Megan Thee Stallion\n24:Lady Leshurr\n25:Squash\n26:Lady Gaga\n27:Nailah Blackman\n28:P!nk\n29:Future\n30:21 Savage\n31:The Weeknd\n32:YNW Melly\n33:KES the Band\n34:Kevin Gates\n35:Problem Child\n36:Nadia Batson\n37:Rich The Kid\n38:Rick Ross\n39:Anne-Marie\n40:Panic! At The Disco\n-----------------------------------------------------------------------\n41:Meek Mill\n42:Britney Spears\n43:Dexta Daps\n44:Jada Kingdom\n45:Masicka\n46:Prince Swanny\n47:Alkaline\n48:Vybz Kartel\n49:Rico Nasty\n50:Stormzy\n51:Rytikal\n52:Kendrick Lamar\n53:Tory Lanez\n54:Najeeriii\n55:Skepta\n56:450\n57:Tommy Lee Sparta\n58:Motto\n59:Teejay\n60:Ace Hood\n-----------------------------------------------------------------------\n61:A Boogie Wit da Hoodie\n62:VAUGHN\n63:Lyrikal\n64:Takeoff\n65:Young Dolph\n66:Latto\n67:Drake\n68:H.E.R.\n69:Twenty One Pilots\n70:Intence\n71:50 Cent\n72:Chronic Law\n73:Jahvillani\n74:Vershon\n75:Kodak Black\n76:Skillet\n77:One Direction\n78:Offset\n79:Lil Tecca\n80:Juice WRLD\n-----------------------------------------------------------------------\n81:Lil Uzi Vert\n82:T.I.\n83:Skeng\n84:Kraff Gad\n85:Fall Out Boy\n86:Adele\n87:Coldplay\n88:Cardi B\n89:Jahshii\n90:Young Thug\n91:Lil Wayne\n92:Skillibeng\n93:Central Cee\n94:Kanye West\n95:Tyga\n96:Young Money\n97:OneRepublic\n98:5 Seconds of Summer\n99:Sia\n100:Govana\n-----------------------------------------------------------------------\n101:Doja Cat\n102:Silk Boss\n103:Rihanna\n104:Yaksta\n105:Popcaan\n106:Tee Grizzley\n107:Thousand Foot Krutch\n108:10Tik\n109:Dave\n110:Kesha\n111:Stalk Ashley\n112:Quality Control\n113:Katy Perry\n114:Bunji Garlin\n115:Migos\n116:Machel Montano\n117:Kes\n118:Hopsin\n119:My Chemical Romance\n120:Erphaan Alves\n-----------------------------------------------------------------------\n121:Ty Dolla $ign\n122:Eminem\n123:Valiant\n124:Rae Sremmurd\n125:ArrDee\n126:SZA\n-----------------------------------------------------------------------\nTotal runtime: 0 minutes and 19.43 seconds\n"
     ]
    }
   ],
   "source": [
    "\n",
    "main_start_time = time.time()\n",
    "\n",
    "# Initialize Spark DataFrames\n",
    "# Define the schema for the artist DataFrame\n",
    "artist_schema = StructType([\n",
    "    StructField(\"ArtistID\", StringType(), True),\n",
    "    StructField(\"Name\", StringType(), True),\n",
    "    StructField(\"Followers\", IntegerType(), True)\n",
    "])\n",
    "\n",
    "genre_schema = StructType([\n",
    "    StructField(\"GenreID\", IntegerType(), True),\n",
    "    StructField('Name', StringType(), True)\n",
    "])\n",
    "\n",
    "artist_genre_schema = StructType([\n",
    "    StructField(\"ID\", IntegerType(), True),\n",
    "    StructField(\"ArtistID\", StringType(), True),\n",
    "    StructField(\"GenreID\", IntegerType(), True)\n",
    "])\n",
    "\n",
    "df_artist = spark.createDataFrame([], schema=artist_schema)\n",
    "df_genre = spark.createDataFrame([], schema = genre_schema)\n",
    "df_artist_genre = spark.createDataFrame([], schema = artist_genre_schema)\n",
    "\n",
    "\n",
    "\n",
    "# Read data from DBFS\n",
    "file_path = '/mnt/spotifyetlprojectdl/raw/followed_artists_list.json'\n",
    "data = spark.read.text(file_path)\n",
    "\n",
    "\n",
    "# Calculate the max_genre_id based on the \"Genre\" DataFrame\n",
    "max_genre_id = df_genre.agg({\"GenreID\": \"max\"}).collect()[0][0] or 0\n",
    "\n",
    "artist_count = 0\n",
    "genre_data = []\n",
    "\n",
    "\n",
    "# Extract text content and collect the data\n",
    "lines = data.rdd.map(lambda r: r.value).collect()\n",
    "for line in lines:\n",
    "    # Load JSON data from the line\n",
    "    all_artists = json.loads(line)\n",
    "\n",
    "    # Iterate over each artist in the loaded data\n",
    "    for artist in all_artists['items']:\n",
    "        artist_count += 1\n",
    "        \n",
    "        artist_name = artist['name']\n",
    "        artist_id = artist['id']\n",
    "        artist_followers = int(artist['followers']['total'])\n",
    "        # Create a Spark DataFrame Row\n",
    "        artist_row = Row(ArtistID=artist_id, Name=artist_name, Followers=artist_followers)\n",
    "\n",
    "        # Append the Row to the artist DataFrame\n",
    "        df_artist = df_artist.union(spark.createDataFrame([artist_row], schema=artist_schema))\n",
    "        # Extract artist genres\n",
    "        artist_genre = artist['genres']\n",
    "        #unique_genres.update(artist_genre)\n",
    "        print(f\"{artist_count}:{artist_name}\")\n",
    "        \n",
    "        # Process genres using Spark operations\n",
    "        for genre_name in artist_genre:\n",
    "            genre_data.append(genre_name)      \n",
    "    \n",
    "    \n",
    "    print('-----------------------------------------------------------------------')\n",
    "\n",
    "# Convert genre_data to a set to get distinct values\n",
    "distinct_genre_data = set(genre_data)\n",
    "# Create a mapping of genre names to GenreID\n",
    "genre_id_mapping = {genre: i + 1 for i, genre in enumerate(distinct_genre_data)}\n",
    "# Create a list of Row objects for the DataFrame\n",
    "genre_rows = [Row(GenreID=genre_id, Name=genre) for genre, genre_id in genre_id_mapping.items()]\n",
    "# Add the rows to the existing df_genre DataFrame\n",
    "df_genre = df_genre.union(spark.createDataFrame(genre_rows, schema=genre_schema))\n",
    "\n",
    "# Record the end time\n",
    "main_end_time = time.time()\n",
    "# Calculate the total runtime\n",
    "total_run_time = main_end_time - main_start_time\n",
    "\n",
    "# Convert the elapsed time to minutes and seconds\n",
    "minutes, seconds = divmod(total_run_time, 60)\n",
    "# Print the runtime\n",
    "print(f\"Total runtime: {int(minutes)} minutes and {round(seconds, 2)} seconds\")\n",
    "\n"
   ]
  },
  {
   "cell_type": "code",
   "execution_count": 0,
   "metadata": {
    "application/vnd.databricks.v1+cell": {
     "cellMetadata": {
      "byteLimit": 2048000,
      "rowLimit": 10000
     },
     "inputWidgets": {},
     "nuid": "4078b245-94aa-45b6-99ab-d0ac196c5c2d",
     "showTitle": false,
     "title": ""
    }
   },
   "outputs": [
    {
     "output_type": "stream",
     "name": "stdout",
     "output_type": "stream",
     "text": [
      "+-------+------------------+\n|GenreID|              Name|\n+-------+------------------+\n|      1|  birmingham grime|\n|      2|         afroswing|\n|      3|       future rock|\n|      4|        piano rock|\n|      5|              trap|\n|      6|           art pop|\n|      7|        trap queen|\n|      8|   dirty south rap|\n|      9|     barbadian pop|\n|     10|       atl hip hop|\n|     11|       florida rap|\n|     12|    canadian metal|\n|     13|            riddim|\n|     14|       modern rock|\n|     15|              rock|\n|     16|instrumental grime|\n|     17|      grenada soca|\n|     18|        uk hip hop|\n|     19|       melodic rap|\n|     20|           pop rap|\n+-------+------------------+\nonly showing top 20 rows\n\nNumber of rows in df_genre: 100\n"
     ]
    }
   ],
   "source": [
    "df_genre.show()\n",
    "row_count = df_genre.count()\n",
    "print(f\"Number of rows in df_genre: {row_count}\")"
   ]
  },
  {
   "cell_type": "code",
   "execution_count": 0,
   "metadata": {
    "application/vnd.databricks.v1+cell": {
     "cellMetadata": {
      "byteLimit": 2048000,
      "rowLimit": 10000
     },
     "inputWidgets": {},
     "nuid": "f25ae9a2-1742-4b80-a558-f8fa4586cf7d",
     "showTitle": false,
     "title": ""
    }
   },
   "outputs": [
    {
     "output_type": "stream",
     "name": "stdout",
     "output_type": "stream",
     "text": [
      "1:YG\nGenres:['cali rap', 'hip hop', 'pop rap', 'rap', 'southern hip hop', 'trap']\nUpdating Genres...\n-----------------------------------------------------------------------\n2:Rygin King\nGenres:['dancehall', 'jamaican dancehall', 'traphall']\nUpdating Genres...\n-----------------------------------------------------------------------\n3:Pablo YG\nGenres:['dancehall']\nUpdating Genres...\n-----------------------------------------------------------------------\n4:Nadia Rose\nGenres:[]\nUpdating Genres...\n-----------------------------------------------------------------------\n5:DJ Khaled\nGenres:['hip hop', 'miami hip hop', 'pop rap', 'rap']\nUpdating Genres...\n-----------------------------------------------------------------------\n6:Mustard\nGenres:['cali rap', 'pop rap', 'rap', 'southern hip hop', 'trap']\nUpdating Genres...\n-----------------------------------------------------------------------\n7:TeeZandos\nGenres:[]\nUpdating Genres...\n-----------------------------------------------------------------------\n8:Big Sean\nGenres:['detroit hip hop', 'hip hop', 'pop rap', 'r&b', 'rap', 'trap']\nUpdating Genres...\n-----------------------------------------------------------------------\n9:Patrice Roberts\nGenres:['dancehall', 'soca']\nUpdating Genres...\n-----------------------------------------------------------------------\n10:Quada\nGenres:['dancehall', 'traphall']\nUpdating Genres...\n-----------------------------------------------------------------------\n11:Kid Cudi\nGenres:['hip hop', 'ohio hip hop', 'pop rap', 'rap']\nUpdating Genres...\n-----------------------------------------------------------------------\n12:Nicki Minaj\nGenres:['hip pop', 'pop', 'queens hip hop', 'rap']\nUpdating Genres...\n-----------------------------------------------------------------------\n13:STARSET\nGenres:['future rock']\nUpdating Genres...\n-----------------------------------------------------------------------\n14:Malie Donn\nGenres:['dancehall', 'traphall']\nUpdating Genres...\n-----------------------------------------------------------------------\n15:Chip\nGenres:['grime', 'instrumental grime', 'london rap', 'uk hip hop']\nUpdating Genres...\n-----------------------------------------------------------------------\n16:Destra\nGenres:['chutney', 'dancehall', 'soca']\nUpdating Genres...\n-----------------------------------------------------------------------\n17:Farmer Nappy\nGenres:['soca']\nUpdating Genres...\n-----------------------------------------------------------------------\n18:Wiz Khalifa\nGenres:['hip hop', 'pittsburgh rap', 'pop rap', 'rap', 'southern hip hop', 'trap']\nUpdating Genres...\n-----------------------------------------------------------------------\n19:Gucci Mane\nGenres:['atl hip hop', 'dirty south rap', 'hip hop', 'pop rap', 'rap', 'southern hip hop', 'trap']\nUpdating Genres...\n-----------------------------------------------------------------------\n20:Chief Keef\nGenres:['chicago bop', 'chicago drill', 'chicago rap', 'drill', 'hip hop', 'rap', 'southern hip hop', 'trap']\nUpdating Genres...\n-----------------------------------------------------------------------\n21:2 Chainz\nGenres:['atl hip hop', 'hip hop', 'pop rap', 'rap', 'southern hip hop', 'trap']\nUpdating Genres...\n-----------------------------------------------------------------------\n22:Nessa Preppy\nGenres:['soca']\nUpdating Genres...\n-----------------------------------------------------------------------\n23:Megan Thee Stallion\nGenres:['houston rap', 'pop', 'r&b', 'rap', 'trap queen']\nUpdating Genres...\n-----------------------------------------------------------------------\n24:Lady Leshurr\nGenres:['afroswing', 'birmingham hip hop', 'trap queen']\nUpdating Genres...\n-----------------------------------------------------------------------\n25:Squash\nGenres:['dancehall', 'traphall', 'trinibad']\nUpdating Genres...\n-----------------------------------------------------------------------\n26:Lady Gaga\nGenres:['art pop', 'dance pop', 'pop']\nUpdating Genres...\n-----------------------------------------------------------------------\n27:Nailah Blackman\nGenres:['dancehall', 'soca', 'trinibad']\nUpdating Genres...\n-----------------------------------------------------------------------\n28:P!nk\nGenres:['dance pop', 'pop']\nUpdating Genres...\n-----------------------------------------------------------------------\n29:Future\nGenres:['atl hip hop', 'hip hop', 'rap', 'southern hip hop', 'trap']\nUpdating Genres...\n-----------------------------------------------------------------------\n30:21 Savage\nGenres:['atl hip hop', 'hip hop', 'rap']\nUpdating Genres...\n-----------------------------------------------------------------------\n31:The Weeknd\nGenres:['canadian contemporary r&b', 'canadian pop', 'pop']\nUpdating Genres...\n-----------------------------------------------------------------------\n32:YNW Melly\nGenres:['melodic rap', 'rap']\nUpdating Genres...\n-----------------------------------------------------------------------\n33:KES the Band\nGenres:['chutney', 'soca']\nUpdating Genres...\n-----------------------------------------------------------------------\n34:Kevin Gates\nGenres:['baton rouge rap', 'rap', 'southern hip hop', 'trap']\nUpdating Genres...\n-----------------------------------------------------------------------\n35:Problem Child\nGenres:['grenada soca', 'soca', 'vincy soca']\nUpdating Genres...\n-----------------------------------------------------------------------\n36:Nadia Batson\nGenres:['soca']\nUpdating Genres...\n-----------------------------------------------------------------------\n37:Rich The Kid\nGenres:['atl hip hop', 'melodic rap', 'plugg', 'rap', 'trap']\nUpdating Genres...\n-----------------------------------------------------------------------\n38:Rick Ross\nGenres:['dirty south rap', 'gangster rap', 'hip hop', 'rap', 'southern hip hop', 'trap']\nUpdating Genres...\n-----------------------------------------------------------------------\n39:Anne-Marie\nGenres:['pop']\nUpdating Genres...\n-----------------------------------------------------------------------\n40:Panic! At The Disco\nGenres:['modern rock', 'pop']\nUpdating Genres...\n-----------------------------------------------------------------------\n41:Meek Mill\nGenres:['hip hop', 'philly rap', 'pop rap', 'rap', 'southern hip hop', 'trap']\nUpdating Genres...\n-----------------------------------------------------------------------\n42:Britney Spears\nGenres:['dance pop', 'pop']\nUpdating Genres...\n-----------------------------------------------------------------------\n43:Dexta Daps\nGenres:['dancehall', 'riddim']\nUpdating Genres...\n-----------------------------------------------------------------------\n44:Jada Kingdom\nGenres:['dancehall', 'dancehall queen']\nUpdating Genres...\n-----------------------------------------------------------------------\n45:Masicka\nGenres:['dancehall', 'jamaican dancehall', 'traphall']\nUpdating Genres...\n-----------------------------------------------------------------------\n46:Prince Swanny\nGenres:['dancehall', 'trinibad']\nUpdating Genres...\n-----------------------------------------------------------------------\n47:Alkaline\nGenres:['dancehall', 'jamaican hip hop', 'traphall']\nUpdating Genres...\n-----------------------------------------------------------------------\n48:Vybz Kartel\nGenres:['dancehall', 'jamaican dancehall', 'reggae fusion']\nUpdating Genres...\n-----------------------------------------------------------------------\n49:Rico Nasty\nGenres:['alternative r&b', 'trap queen']\nUpdating Genres...\n-----------------------------------------------------------------------\n50:Stormzy\nGenres:['grime', 'uk hip hop']\nUpdating Genres...\n-----------------------------------------------------------------------\n51:Rytikal\nGenres:['dancehall', 'jamaican dancehall', 'traphall']\nUpdating Genres...\n-----------------------------------------------------------------------\n52:Kendrick Lamar\nGenres:['conscious hip hop', 'hip hop', 'rap', 'west coast rap']\nUpdating Genres...\n-----------------------------------------------------------------------\n53:Tory Lanez\nGenres:['canadian hip hop', 'canadian trap', 'melodic rap', 'pop rap', 'r&b', 'rap', 'trap']\nUpdating Genres...\n-----------------------------------------------------------------------\n54:Najeeriii\nGenres:[]\nUpdating Genres...\n-----------------------------------------------------------------------\n55:Skepta\nGenres:['birmingham grime', 'grime', 'instrumental grime', 'uk hip hop']\nUpdating Genres...\n-----------------------------------------------------------------------\n56:450\nGenres:['dancehall', 'traphall']\nUpdating Genres...\n-----------------------------------------------------------------------\n57:Tommy Lee Sparta\nGenres:['dancehall', 'jamaican dancehall', 'traphall']\nUpdating Genres...\n-----------------------------------------------------------------------\n58:Motto\nGenres:['dennery segment', 'soca']\nUpdating Genres...\n-----------------------------------------------------------------------\n59:Teejay\nGenres:['dancehall', 'jamaican dancehall', 'jamaican hip hop', 'traphall', 'trinibad']\nUpdating Genres...\n-----------------------------------------------------------------------\n60:Ace Hood\nGenres:['dirty south rap', 'miami hip hop', 'pop rap', 'rap', 'southern hip hop', 'trap']\nUpdating Genres...\n-----------------------------------------------------------------------\n61:A Boogie Wit da Hoodie\nGenres:['melodic rap', 'rap', 'trap']\nUpdating Genres...\n-----------------------------------------------------------------------\n62:VAUGHN\nGenres:[]\nUpdating Genres...\n-----------------------------------------------------------------------\n63:Lyrikal\nGenres:['nigerian hip hop', 'soca']\nUpdating Genres...\n-----------------------------------------------------------------------\n64:Takeoff\nGenres:['atl hip hop', 'rap', 'trap']\nUpdating Genres...\n-----------------------------------------------------------------------\n65:Young Dolph\nGenres:['memphis hip hop', 'rap', 'southern hip hop', 'tennessee hip hop', 'trap']\nUpdating Genres...\n-----------------------------------------------------------------------\n66:Latto\nGenres:['trap queen']\nUpdating Genres...\n-----------------------------------------------------------------------\n67:Drake\nGenres:['canadian hip hop', 'canadian pop', 'hip hop', 'pop rap', 'rap']\nUpdating Genres...\n-----------------------------------------------------------------------\n68:H.E.R.\nGenres:['r&b', 'rap']\nUpdating Genres...\n-----------------------------------------------------------------------\n69:Twenty One Pilots\nGenres:['modern rock', 'pop', 'pov: indie', 'rock']\nUpdating Genres...\n-----------------------------------------------------------------------\n70:Intence\nGenres:['dancehall', 'jamaican dancehall', 'jamaican hip hop', 'traphall']\nUpdating Genres...\n-----------------------------------------------------------------------\n71:50 Cent\nGenres:['east coast hip hop', 'gangster rap', 'hip hop', 'pop rap', 'queens hip hop', 'rap']\nUpdating Genres...\n-----------------------------------------------------------------------\n72:Chronic Law\nGenres:['dancehall', 'jamaican dancehall', 'jamaican hip hop', 'traphall']\nUpdating Genres...\n-----------------------------------------------------------------------\n73:Jahvillani\nGenres:['dancehall', 'jamaican dancehall', 'traphall']\nUpdating Genres...\n-----------------------------------------------------------------------\n74:Vershon\nGenres:['dancehall']\nUpdating Genres...\n-----------------------------------------------------------------------\n75:Kodak Black\nGenres:['florida drill', 'florida rap', 'melodic rap', 'miami hip hop', 'rap', 'trap', 'trap latino']\nUpdating Genres...\n-----------------------------------------------------------------------\n76:Skillet\nGenres:['alternative metal', 'christian alternative rock', 'christian music', 'christian rock']\nUpdating Genres...\n-----------------------------------------------------------------------\n77:One Direction\nGenres:['boy band', 'pop', 'post-teen pop', 'talent show']\nUpdating Genres...\n-----------------------------------------------------------------------\n78:Offset\nGenres:['atl hip hop', 'hip hop', 'pop rap', 'rap', 'trap']\nUpdating Genres...\n-----------------------------------------------------------------------\n79:Lil Tecca\nGenres:['melodic rap', 'pluggnb', 'rap']\nUpdating Genres...\n-----------------------------------------------------------------------\n80:Juice WRLD\nGenres:['chicago rap', 'melodic rap', 'rap']\nUpdating Genres...\n-----------------------------------------------------------------------\n81:Lil Uzi Vert\nGenres:['hip hop', 'melodic rap', 'philly rap', 'rage rap', 'rap']\nUpdating Genres...\n-----------------------------------------------------------------------\n82:T.I.\nGenres:['atl hip hop', 'dirty south rap', 'gangster rap', 'hip hop', 'pop rap', 'rap', 'southern hip hop', 'trap']\nUpdating Genres...\n-----------------------------------------------------------------------\n83:Skeng\nGenres:['dancehall', 'jamaican dancehall', 'jamaican hip hop', 'traphall']\nUpdating Genres...\n-----------------------------------------------------------------------\n84:Kraff Gad\nGenres:['dancehall', 'jamaican dancehall']\nUpdating Genres...\n-----------------------------------------------------------------------\n85:Fall Out Boy\nGenres:['emo', 'modern rock', 'pop', 'rock']\nUpdating Genres...\n-----------------------------------------------------------------------\n86:Adele\nGenres:['british soul', 'pop', 'pop soul', 'uk pop']\nUpdating Genres...\n-----------------------------------------------------------------------\n87:Coldplay\nGenres:['permanent wave', 'pop']\nUpdating Genres...\n-----------------------------------------------------------------------\n88:Cardi B\nGenres:['pop', 'rap']\nUpdating Genres...\n-----------------------------------------------------------------------\n89:Jahshii\nGenres:['dancehall', 'jamaican dancehall', 'traphall']\nUpdating Genres...\n-----------------------------------------------------------------------\n90:Young Thug\nGenres:['atl hip hop', 'atl trap', 'gangster rap', 'melodic rap', 'rap', 'trap']\nUpdating Genres...\n-----------------------------------------------------------------------\n91:Lil Wayne\nGenres:['hip hop', 'new orleans rap', 'pop rap', 'rap', 'trap']\nUpdating Genres...\n-----------------------------------------------------------------------\n92:Skillibeng\nGenres:['dancehall', 'jamaican dancehall', 'traphall', 'trinibad']\nUpdating Genres...\n-----------------------------------------------------------------------\n93:Central Cee\nGenres:['melodic drill', 'r&drill']\nUpdating Genres...\n-----------------------------------------------------------------------\n94:Kanye West\nGenres:['chicago rap', 'hip hop', 'rap']\nUpdating Genres...\n-----------------------------------------------------------------------\n95:Tyga\nGenres:['hip hop', 'pop rap', 'rap', 'trap']\nUpdating Genres...\n-----------------------------------------------------------------------\n96:Young Money\nGenres:['dirty south rap', 'pop rap', 'rap', 'southern hip hop', 'trap']\nUpdating Genres...\n-----------------------------------------------------------------------\n97:OneRepublic\nGenres:['piano rock', 'pop']\nUpdating Genres...\n-----------------------------------------------------------------------\n98:5 Seconds of Summer\nGenres:['boy band', 'pop']\nUpdating Genres...\n-----------------------------------------------------------------------\n99:Sia\nGenres:['australian dance', 'australian pop', 'pop']\nUpdating Genres...\n-----------------------------------------------------------------------\n100:Govana\nGenres:['dancehall', 'jamaican dancehall', 'traphall']\nUpdating Genres...\n-----------------------------------------------------------------------\n101:Doja Cat\nGenres:['dance pop', 'pop']\nUpdating Genres...\n-----------------------------------------------------------------------\n102:Silk Boss\nGenres:['dancehall']\nUpdating Genres...\n-----------------------------------------------------------------------\n103:Rihanna\nGenres:['barbadian pop', 'pop', 'urban contemporary']\nUpdating Genres...\n-----------------------------------------------------------------------\n104:Yaksta\nGenres:['dancehall', 'jamaican dancehall']\nUpdating Genres...\n-----------------------------------------------------------------------\n105:Popcaan\nGenres:['dancehall', 'jamaican hip hop', 'reggae fusion', 'traphall']\nUpdating Genres...\n-----------------------------------------------------------------------\n106:Tee Grizzley\nGenres:['detroit hip hop', 'detroit trap', 'rap', 'southern hip hop', 'trap']\nUpdating Genres...\n-----------------------------------------------------------------------\n107:Thousand Foot Krutch\nGenres:['alternative metal', 'canadian ccm', 'canadian metal', 'canadian rock', 'christian alternative rock', 'christian rock', 'rap metal']\nUpdating Genres...\n-----------------------------------------------------------------------\n108:10Tik\nGenres:['dancehall', 'traphall']\nUpdating Genres...\n-----------------------------------------------------------------------\n109:Dave\nGenres:['uk hip hop']\nUpdating Genres...\n-----------------------------------------------------------------------\n110:Kesha\nGenres:['dance pop', 'pop']\nUpdating Genres...\n-----------------------------------------------------------------------\n111:Stalk Ashley\nGenres:['dancehall', 'dancehall queen']\nUpdating Genres...\n-----------------------------------------------------------------------\n112:Quality Control\nGenres:['melodic rap', 'trap']\nUpdating Genres...\n-----------------------------------------------------------------------\n113:Katy Perry\nGenres:['pop']\nUpdating Genres...\n-----------------------------------------------------------------------\n114:Bunji Garlin\nGenres:['dancehall', 'soca']\nUpdating Genres...\n-----------------------------------------------------------------------\n115:Migos\nGenres:['atl hip hop', 'hip hop', 'pop rap', 'rap', 'trap']\nUpdating Genres...\n-----------------------------------------------------------------------\n116:Machel Montano\nGenres:['chutney', 'dancehall', 'soca']\nUpdating Genres...\n-----------------------------------------------------------------------\n117:Kes\nGenres:['chutney', 'dancehall', 'melbourne indie', 'soca']\nUpdating Genres...\n-----------------------------------------------------------------------\n118:Hopsin\nGenres:['conscious hip hop', 'indie pop rap']\nUpdating Genres...\n-----------------------------------------------------------------------\n119:My Chemical Romance\nGenres:['emo', 'modern rock', 'pop punk', 'pov: indie', 'rock']\nUpdating Genres...\n-----------------------------------------------------------------------\n120:Erphaan Alves\nGenres:['soca']\nUpdating Genres...\n-----------------------------------------------------------------------\n121:Ty Dolla $ign\nGenres:['hip hop', 'pop rap', 'r&b', 'southern hip hop', 'trap', 'trap soul']\nUpdating Genres...\n-----------------------------------------------------------------------\n122:Eminem\nGenres:['detroit hip hop', 'hip hop', 'rap']\nUpdating Genres...\n-----------------------------------------------------------------------\n123:Valiant\nGenres:['dancehall']\nUpdating Genres...\n-----------------------------------------------------------------------\n124:Rae Sremmurd\nGenres:['melodic rap', 'mississippi hip hop', 'pop rap', 'rap', 'trap']\nUpdating Genres...\n-----------------------------------------------------------------------\n125:ArrDee\nGenres:['uk hip hop']\nUpdating Genres...\n-----------------------------------------------------------------------\n126:SZA\nGenres:['pop', 'r&b', 'rap']\nUpdating Genres...\n-----------------------------------------------------------------------\n+---+--------------------+-------+\n| ID|            ArtistID|GenreID|\n+---+--------------------+-------+\n|  1|0A0FS04o6zMoto8OK...|     98|\n|  2|0A0FS04o6zMoto8OK...|     23|\n|  3|0A0FS04o6zMoto8OK...|     20|\n|  4|0A0FS04o6zMoto8OK...|     39|\n|  5|0A0FS04o6zMoto8OK...|     49|\n|  6|0A0FS04o6zMoto8OK...|      5|\n|  7|0IHg6uUuIes2nxFoT...|     57|\n|  8|0IHg6uUuIes2nxFoT...|     91|\n|  9|0IHg6uUuIes2nxFoT...|     21|\n| 10|0JFNiVq6LHCFEJk9i...|     57|\n| 11|0QHgL1lAIqAw0HtD7...|     23|\n| 12|0QHgL1lAIqAw0HtD7...|     77|\n| 13|0QHgL1lAIqAw0HtD7...|     20|\n| 14|0QHgL1lAIqAw0HtD7...|     39|\n| 15|0YinUQ50QDB7ZxSCL...|     98|\n| 16|0YinUQ50QDB7ZxSCL...|     20|\n| 17|0YinUQ50QDB7ZxSCL...|     39|\n| 18|0YinUQ50QDB7ZxSCL...|     49|\n| 19|0YinUQ50QDB7ZxSCL...|      5|\n| 20|0c173mlxpT3dSFRgM...|     46|\n+---+--------------------+-------+\nonly showing top 20 rows\n\nNumber of rows in df_artist_genre: 412\nTotal runtime: 1 minutes and 25.36 seconds\n"
     ]
    }
   ],
   "source": [
    "main_start_time = time.time()\n",
    "artist_count = 0\n",
    "# Calculate the max_artist_genre_id based on the \"Artist_Genre\" DataFram\n",
    "max_artist_genre_id = df_artist_genre.agg({\"ID\": \"max\"}).collect()[0][0] or 0\n",
    "\n",
    "artist_genre_data = []\n",
    "for line in lines:\n",
    "    # Load JSON data from the line\n",
    "    all_artists = json.loads(line)\n",
    "\n",
    "    # Iterate over each artist in the loaded data\n",
    "    for artist in all_artists['items']:\n",
    "        artist_count += 1\n",
    "        # Extract artist genres\n",
    "        artist_id = artist['id']\n",
    "        artist_name = artist['name']\n",
    "        artist_genre = artist['genres']\n",
    "        \n",
    "        print(f\"{artist_count}:{artist_name}\")\n",
    "        print(f\"Genres:{artist_genre}\")\n",
    "        print(\"Updating Genres...\")\n",
    "        print('-----------------------------------------------------------------------')\n",
    "        # Process genres using Spark operations\n",
    "        for genre_name in artist_genre:\n",
    "            genre_id = df_genre.filter(col(\"Name\") == genre_name).select(\"GenreID\").collect()[0][0]\n",
    "            #print(f\"Genre ID: {genre_id} |  Genre: {genre_name}\")\n",
    "            \n",
    "            max_artist_genre_id += 1\n",
    "            artist_genre_id = max_artist_genre_id \n",
    "            artist_genre_data.append((artist_genre_id, artist_id, genre_id))\n",
    "\n",
    "\n",
    "#artist_genre_df = spark.createDataFrame(artist_genre_data, schema=artist_genre_schema)\n",
    "#df_artist_genre = df_artist_genre.union(artist_genre_df)\n",
    "df_artist_genre = df_artist_genre.union(spark.createDataFrame(artist_genre_data, schema=artist_genre_schema))\n",
    "df_artist_genre.show()\n",
    "row_count = df_artist_genre.count()\n",
    "print(f\"Number of rows in df_artist_genre: {row_count}\")\n",
    "\n",
    "\n",
    "\n",
    "# Record the end time\n",
    "main_end_time = time.time()\n",
    "# Calculate the total runtime\n",
    "total_run_time = main_end_time - main_start_time\n",
    "\n",
    "# Convert the elapsed time to minutes and seconds\n",
    "minutes, seconds = divmod(total_run_time, 60)\n",
    "# Print the runtime\n",
    "print(f\"Total runtime: {int(minutes)} minutes and {round(seconds, 2)} seconds\")"
   ]
  },
  {
   "cell_type": "code",
   "execution_count": 0,
   "metadata": {
    "application/vnd.databricks.v1+cell": {
     "cellMetadata": {
      "byteLimit": 2048000,
      "rowLimit": 10000
     },
     "inputWidgets": {},
     "nuid": "55ae4c79-f480-4955-93ca-f42ee479ab85",
     "showTitle": false,
     "title": ""
    }
   },
   "outputs": [
    {
     "output_type": "stream",
     "name": "stdout",
     "output_type": "stream",
     "text": [
      "Total runtime: 0 minutes and 27.53 seconds\n"
     ]
    }
   ],
   "source": [
    "main_start_time = time.time()\n",
    "# Save processed-genre-data to CSV\n",
    "df_genre.write.mode(\"overwrite\").csv(\"/mnt/spotifyetlprojectdl/processed/processed-genre-data\")\n",
    "\n",
    "# Save processed-artist-data to CSV\n",
    "df_artist.write.mode(\"overwrite\").csv(\"/mnt/spotifyetlprojectdl/processed/processed-artist-data\")\n",
    "\n",
    "# Save processed-artist-genre-data to CSV\n",
    "df_artist_genre.write.mode(\"overwrite\").csv(\"/mnt/spotifyetlprojectdl/processed/processed-artist-genre-data\")\n",
    "\n",
    "# Record the end time\n",
    "main_end_time = time.time()\n",
    "# Calculate the total runtime\n",
    "total_run_time = main_end_time - main_start_time\n",
    "\n",
    "# Convert the elapsed time to minutes and seconds\n",
    "minutes, seconds = divmod(total_run_time, 60)\n",
    "# Print the runtime\n",
    "print(f\"Total runtime: {int(minutes)} minutes and {round(seconds, 2)} seconds\")"
   ]
  },
  {
   "cell_type": "code",
   "execution_count": 0,
   "metadata": {
    "application/vnd.databricks.v1+cell": {
     "cellMetadata": {
      "byteLimit": 2048000,
      "rowLimit": 10000
     },
     "inputWidgets": {},
     "nuid": "79c592df-299d-4192-a2b0-47f92fd7a09b",
     "showTitle": false,
     "title": ""
    }
   },
   "outputs": [
    {
     "output_type": "stream",
     "name": "stdout",
     "output_type": "stream",
     "text": [
      "+---+--------+-------+\n| ID|ArtistID|GenreID|\n+---+--------+-------+\n+---+--------+-------+\n\n"
     ]
    }
   ],
   "source": [
    "# Assuming df_artist_genre is your DataFrame\n",
    "# Find and display all duplicate rows\n",
    "duplicates = df_artist_genre.subtract(df_artist_genre.dropDuplicates())\n",
    "duplicates.show()\n"
   ]
  },
  {
   "cell_type": "code",
   "execution_count": 0,
   "metadata": {
    "application/vnd.databricks.v1+cell": {
     "cellMetadata": {
      "byteLimit": 2048000,
      "rowLimit": 10000
     },
     "inputWidgets": {},
     "nuid": "bba46fd3-18c0-4447-a00a-b34f913231bc",
     "showTitle": false,
     "title": ""
    }
   },
   "outputs": [
    {
     "output_type": "stream",
     "name": "stdout",
     "output_type": "stream",
     "text": [
      "+-------+----+\n|GenreID|Name|\n+-------+----+\n+-------+----+\n\n"
     ]
    }
   ],
   "source": [
    "duplicates = df_genre.subtract(df_genre.dropDuplicates())\n",
    "duplicates.show()"
   ]
  },
  {
   "cell_type": "code",
   "execution_count": 0,
   "metadata": {
    "application/vnd.databricks.v1+cell": {
     "cellMetadata": {},
     "inputWidgets": {},
     "nuid": "d9454aed-2b2f-4eaf-824d-a154347d2a35",
     "showTitle": false,
     "title": ""
    }
   },
   "outputs": [],
   "source": []
  }
 ],
 "metadata": {
  "application/vnd.databricks.v1+notebook": {
   "dashboards": [],
   "language": "python",
   "notebookMetadata": {
    "pythonIndentUnit": 4
   },
   "notebookName": "Transform Artist Data and Create Artist|Genre|ArtistGenre Files",
   "widgets": {}
  }
 },
 "nbformat": 4,
 "nbformat_minor": 0
}
